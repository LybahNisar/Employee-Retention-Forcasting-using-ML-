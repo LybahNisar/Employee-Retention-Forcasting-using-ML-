{
  "nbformat": 4,
  "nbformat_minor": 0,
  "metadata": {
    "colab": {
      "provenance": []
    },
    "kernelspec": {
      "name": "python3",
      "display_name": "Python 3"
    },
    "language_info": {
      "name": "python"
    }
  },
  "cells": [
    {
      "cell_type": "markdown",
      "source": [
        "## ***Import Required Libraries***"
      ],
      "metadata": {
        "id": "eWQI9FZkHHb_"
      }
    },
    {
      "cell_type": "code",
      "source": [
        "import pandas as pd\n",
        "import numpy as np\n",
        "from sklearn.model_selection import train_test_split\n",
        "from sklearn.preprocessing import StandardScaler, LabelEncoder\n",
        "from sklearn.metrics import accuracy_score, precision_score, recall_score, f1_score, roc_auc_score\n",
        "import matplotlib.pyplot as plt\n",
        "from sklearn.tree import DecisionTreeClassifier\n",
        "from sklearn.neighbors import KNeighborsClassifier\n",
        "from sklearn.linear_model import LogisticRegression\n",
        "from sklearn.svm import SVC\n",
        "from sklearn.ensemble import RandomForestClassifier"
      ],
      "metadata": {
        "id": "oz_WEaH1yGQh"
      },
      "execution_count": null,
      "outputs": []
    },
    {
      "cell_type": "markdown",
      "source": [
        "## ***Load Data***"
      ],
      "metadata": {
        "id": "UeLm_Tu2yJ-X"
      }
    },
    {
      "cell_type": "code",
      "source": [
        "file_path = '/content/WA_Fn-UseC_-HR-Employee-Attrition (1).csv'\n",
        "data = pd.read_csv(file_path)"
      ],
      "metadata": {
        "id": "DtDPSJzNyMx7"
      },
      "execution_count": null,
      "outputs": []
    },
    {
      "cell_type": "markdown",
      "source": [
        "## ***Encoding categorical variables***"
      ],
      "metadata": {
        "id": "1rSQniLdyWi5"
      }
    },
    {
      "cell_type": "code",
      "source": [
        "# Encoding categorical variables\n",
        "label_encoder = LabelEncoder()\n",
        "for column in data.select_dtypes(include=['object']).columns:\n",
        "    data[column] = label_encoder.fit_transform(data[column])\n",
        "\n",
        "# Separate features (X) and target (y)\n",
        "X = data.drop(columns=['Attrition'], axis=1)  # Drop target column\n",
        "y = data['Attrition']  # Target variable\n",
        "\n",
        "# Split into training and testing sets\n",
        "X_train, X_test, y_train, y_test = train_test_split(X, y, test_size=0.2, random_state=42)\n",
        "\n",
        "# Scale numerical features\n",
        "scaler = StandardScaler()\n",
        "X_train = scaler.fit_transform(X_train)\n",
        "X_test = scaler.transform(X_test)"
      ],
      "metadata": {
        "id": "Dwj1yu69yTIM"
      },
      "execution_count": null,
      "outputs": []
    },
    {
      "cell_type": "markdown",
      "source": [
        "## ***Evalution Function***"
      ],
      "metadata": {
        "id": "5qYvZIUFzFbq"
      }
    },
    {
      "cell_type": "code",
      "source": [
        "# Define Evaluation Function\n",
        "def evaluate_model(model, X_train, y_train, X_test, y_test):\n",
        "    \"\"\"\n",
        "    Evaluates a model's performance on both training and testing datasets.\n",
        "    Returns metrics for training and testing.\n",
        "    \"\"\"\n",
        "    # Training predictions\n",
        "    train_preds = model.predict(X_train)\n",
        "    test_preds = model.predict(X_test)\n",
        "\n",
        "    # Training probabilities (for ROC-AUC)\n",
        "    train_probs = model.predict_proba(X_train)[:, 1] if hasattr(model, \"predict_proba\") else None\n",
        "    test_probs = model.predict_proba(X_test)[:, 1] if hasattr(model, \"predict_proba\") else None\n",
        "\n",
        "    # Metrics for training and testing\n",
        "    train_metrics = {\n",
        "        \"Accuracy\": accuracy_score(y_train, train_preds),\n",
        "        \"Precision\": precision_score(y_train, train_preds),\n",
        "        \"Recall\": recall_score(y_train, train_preds),\n",
        "        \"F1-Score\": f1_score(y_train, train_preds),\n",
        "        \"ROC-AUC\": roc_auc_score(y_train, train_probs) if train_probs is not None else None\n",
        "    }\n",
        "\n",
        "    test_metrics = {\n",
        "        \"Accuracy\": accuracy_score(y_test, test_preds),\n",
        "        \"Precision\": precision_score(y_test, test_preds),\n",
        "        \"Recall\": recall_score(y_test, test_preds),\n",
        "        \"F1-Score\": f1_score(y_test, test_preds),\n",
        "        \"ROC-AUC\": roc_auc_score(y_test, test_probs) if test_probs is not None else None\n",
        "    }\n",
        "\n",
        "    return train_metrics, test_metrics\n"
      ],
      "metadata": {
        "id": "2Sp-E6uBzDN8"
      },
      "execution_count": null,
      "outputs": []
    },
    {
      "cell_type": "markdown",
      "source": [
        "## *Train and Evaluate Models*"
      ],
      "metadata": {
        "id": "25Tg6Kk8zRLU"
      }
    },
    {
      "cell_type": "markdown",
      "source": [
        "## ***Decision Tree***"
      ],
      "metadata": {
        "id": "LmZplDlwzTJW"
      }
    },
    {
      "cell_type": "code",
      "source": [
        "# Train and Evaluate Decision Tree Model\n",
        "dt_model = DecisionTreeClassifier(random_state=42)\n",
        "dt_model.fit(X_train, y_train)\n",
        "\n",
        "# Evaluate the model\n",
        "dt_train_metrics, dt_test_metrics = evaluate_model(dt_model, X_train, y_train, X_test, y_test)\n",
        "\n",
        "# Print metrics\n",
        "print(\"Decision Tree - Training Metrics:\", dt_train_metrics)\n",
        "print(\"Decision Tree - Testing Metrics:\", dt_test_metrics)\n"
      ],
      "metadata": {
        "colab": {
          "base_uri": "https://localhost:8080/"
        },
        "id": "j2pyxH8dzYG6",
        "outputId": "2c75e961-73ac-4f38-9579-0ab37d08de4f"
      },
      "execution_count": null,
      "outputs": [
        {
          "output_type": "stream",
          "name": "stdout",
          "text": [
            "Decision Tree - Training Metrics: {'Accuracy': 1.0, 'Precision': 1.0, 'Recall': 1.0, 'F1-Score': 1.0, 'ROC-AUC': 1.0}\n",
            "Decision Tree - Testing Metrics: {'Accuracy': 0.7653061224489796, 'Precision': 0.1590909090909091, 'Recall': 0.1794871794871795, 'F1-Score': 0.1686746987951807, 'ROC-AUC': 0.5171945701357465}\n"
          ]
        }
      ]
    },
    {
      "cell_type": "markdown",
      "source": [
        "## ***Overfitting solution***"
      ],
      "metadata": {
        "id": "RLbF9KRCn7By"
      }
    },
    {
      "cell_type": "code",
      "source": [
        "# Train a Decision Tree with constraints\n",
        "dt_model = DecisionTreeClassifier(\n",
        "    random_state=42,\n",
        "    max_depth=5,                 # Limit the depth of the tree\n",
        "    min_samples_split=10,        # Minimum samples required to split a node\n",
        "    min_samples_leaf=5           # Minimum samples in a leaf node\n",
        ")\n",
        "dt_model.fit(X_train, y_train)\n",
        "\n",
        "# Re-evaluate the model\n",
        "dt_metrics = evaluate_model(dt_model, X_train, y_train, X_test, y_test)\n",
        "\n",
        "# Display the metrics in a table\n",
        "dt_metrics_df = pd.DataFrame(dt_metrics, index=[\"Training\", \"Testing\"])\n",
        "print(\"\\nDecision Tree Metrics with Regularization:\")\n",
        "print(dt_metrics_df)\n"
      ],
      "metadata": {
        "colab": {
          "base_uri": "https://localhost:8080/"
        },
        "id": "N37bDH0Dn9eB",
        "outputId": "ad53cb62-6b05-4e8d-8c81-2c4711cb2698"
      },
      "execution_count": null,
      "outputs": [
        {
          "output_type": "stream",
          "name": "stdout",
          "text": [
            "\n",
            "Decision Tree Metrics with Regularization:\n",
            "          Accuracy  Precision    Recall  F1-Score   ROC-AUC\n",
            "Training  0.884354   0.742188  0.479798  0.582822  0.864708\n",
            "Testing   0.823129   0.217391  0.128205  0.161290  0.596581\n"
          ]
        }
      ]
    },
    {
      "cell_type": "code",
      "source": [
        "# Use class weights\n",
        "dt_model = DecisionTreeClassifier(random_state=42, class_weight='balanced')\n",
        "dt_model.fit(X_train, y_train)\n"
      ],
      "metadata": {
        "colab": {
          "base_uri": "https://localhost:8080/",
          "height": 80
        },
        "id": "vqouZwcpoKvz",
        "outputId": "ef550367-8507-49d2-f973-27f277978dbc"
      },
      "execution_count": null,
      "outputs": [
        {
          "output_type": "execute_result",
          "data": {
            "text/plain": [
              "DecisionTreeClassifier(class_weight='balanced', random_state=42)"
            ],
            "text/html": [
              "<style>#sk-container-id-1 {\n",
              "  /* Definition of color scheme common for light and dark mode */\n",
              "  --sklearn-color-text: #000;\n",
              "  --sklearn-color-text-muted: #666;\n",
              "  --sklearn-color-line: gray;\n",
              "  /* Definition of color scheme for unfitted estimators */\n",
              "  --sklearn-color-unfitted-level-0: #fff5e6;\n",
              "  --sklearn-color-unfitted-level-1: #f6e4d2;\n",
              "  --sklearn-color-unfitted-level-2: #ffe0b3;\n",
              "  --sklearn-color-unfitted-level-3: chocolate;\n",
              "  /* Definition of color scheme for fitted estimators */\n",
              "  --sklearn-color-fitted-level-0: #f0f8ff;\n",
              "  --sklearn-color-fitted-level-1: #d4ebff;\n",
              "  --sklearn-color-fitted-level-2: #b3dbfd;\n",
              "  --sklearn-color-fitted-level-3: cornflowerblue;\n",
              "\n",
              "  /* Specific color for light theme */\n",
              "  --sklearn-color-text-on-default-background: var(--sg-text-color, var(--theme-code-foreground, var(--jp-content-font-color1, black)));\n",
              "  --sklearn-color-background: var(--sg-background-color, var(--theme-background, var(--jp-layout-color0, white)));\n",
              "  --sklearn-color-border-box: var(--sg-text-color, var(--theme-code-foreground, var(--jp-content-font-color1, black)));\n",
              "  --sklearn-color-icon: #696969;\n",
              "\n",
              "  @media (prefers-color-scheme: dark) {\n",
              "    /* Redefinition of color scheme for dark theme */\n",
              "    --sklearn-color-text-on-default-background: var(--sg-text-color, var(--theme-code-foreground, var(--jp-content-font-color1, white)));\n",
              "    --sklearn-color-background: var(--sg-background-color, var(--theme-background, var(--jp-layout-color0, #111)));\n",
              "    --sklearn-color-border-box: var(--sg-text-color, var(--theme-code-foreground, var(--jp-content-font-color1, white)));\n",
              "    --sklearn-color-icon: #878787;\n",
              "  }\n",
              "}\n",
              "\n",
              "#sk-container-id-1 {\n",
              "  color: var(--sklearn-color-text);\n",
              "}\n",
              "\n",
              "#sk-container-id-1 pre {\n",
              "  padding: 0;\n",
              "}\n",
              "\n",
              "#sk-container-id-1 input.sk-hidden--visually {\n",
              "  border: 0;\n",
              "  clip: rect(1px 1px 1px 1px);\n",
              "  clip: rect(1px, 1px, 1px, 1px);\n",
              "  height: 1px;\n",
              "  margin: -1px;\n",
              "  overflow: hidden;\n",
              "  padding: 0;\n",
              "  position: absolute;\n",
              "  width: 1px;\n",
              "}\n",
              "\n",
              "#sk-container-id-1 div.sk-dashed-wrapped {\n",
              "  border: 1px dashed var(--sklearn-color-line);\n",
              "  margin: 0 0.4em 0.5em 0.4em;\n",
              "  box-sizing: border-box;\n",
              "  padding-bottom: 0.4em;\n",
              "  background-color: var(--sklearn-color-background);\n",
              "}\n",
              "\n",
              "#sk-container-id-1 div.sk-container {\n",
              "  /* jupyter's `normalize.less` sets `[hidden] { display: none; }`\n",
              "     but bootstrap.min.css set `[hidden] { display: none !important; }`\n",
              "     so we also need the `!important` here to be able to override the\n",
              "     default hidden behavior on the sphinx rendered scikit-learn.org.\n",
              "     See: https://github.com/scikit-learn/scikit-learn/issues/21755 */\n",
              "  display: inline-block !important;\n",
              "  position: relative;\n",
              "}\n",
              "\n",
              "#sk-container-id-1 div.sk-text-repr-fallback {\n",
              "  display: none;\n",
              "}\n",
              "\n",
              "div.sk-parallel-item,\n",
              "div.sk-serial,\n",
              "div.sk-item {\n",
              "  /* draw centered vertical line to link estimators */\n",
              "  background-image: linear-gradient(var(--sklearn-color-text-on-default-background), var(--sklearn-color-text-on-default-background));\n",
              "  background-size: 2px 100%;\n",
              "  background-repeat: no-repeat;\n",
              "  background-position: center center;\n",
              "}\n",
              "\n",
              "/* Parallel-specific style estimator block */\n",
              "\n",
              "#sk-container-id-1 div.sk-parallel-item::after {\n",
              "  content: \"\";\n",
              "  width: 100%;\n",
              "  border-bottom: 2px solid var(--sklearn-color-text-on-default-background);\n",
              "  flex-grow: 1;\n",
              "}\n",
              "\n",
              "#sk-container-id-1 div.sk-parallel {\n",
              "  display: flex;\n",
              "  align-items: stretch;\n",
              "  justify-content: center;\n",
              "  background-color: var(--sklearn-color-background);\n",
              "  position: relative;\n",
              "}\n",
              "\n",
              "#sk-container-id-1 div.sk-parallel-item {\n",
              "  display: flex;\n",
              "  flex-direction: column;\n",
              "}\n",
              "\n",
              "#sk-container-id-1 div.sk-parallel-item:first-child::after {\n",
              "  align-self: flex-end;\n",
              "  width: 50%;\n",
              "}\n",
              "\n",
              "#sk-container-id-1 div.sk-parallel-item:last-child::after {\n",
              "  align-self: flex-start;\n",
              "  width: 50%;\n",
              "}\n",
              "\n",
              "#sk-container-id-1 div.sk-parallel-item:only-child::after {\n",
              "  width: 0;\n",
              "}\n",
              "\n",
              "/* Serial-specific style estimator block */\n",
              "\n",
              "#sk-container-id-1 div.sk-serial {\n",
              "  display: flex;\n",
              "  flex-direction: column;\n",
              "  align-items: center;\n",
              "  background-color: var(--sklearn-color-background);\n",
              "  padding-right: 1em;\n",
              "  padding-left: 1em;\n",
              "}\n",
              "\n",
              "\n",
              "/* Toggleable style: style used for estimator/Pipeline/ColumnTransformer box that is\n",
              "clickable and can be expanded/collapsed.\n",
              "- Pipeline and ColumnTransformer use this feature and define the default style\n",
              "- Estimators will overwrite some part of the style using the `sk-estimator` class\n",
              "*/\n",
              "\n",
              "/* Pipeline and ColumnTransformer style (default) */\n",
              "\n",
              "#sk-container-id-1 div.sk-toggleable {\n",
              "  /* Default theme specific background. It is overwritten whether we have a\n",
              "  specific estimator or a Pipeline/ColumnTransformer */\n",
              "  background-color: var(--sklearn-color-background);\n",
              "}\n",
              "\n",
              "/* Toggleable label */\n",
              "#sk-container-id-1 label.sk-toggleable__label {\n",
              "  cursor: pointer;\n",
              "  display: flex;\n",
              "  width: 100%;\n",
              "  margin-bottom: 0;\n",
              "  padding: 0.5em;\n",
              "  box-sizing: border-box;\n",
              "  text-align: center;\n",
              "  align-items: start;\n",
              "  justify-content: space-between;\n",
              "  gap: 0.5em;\n",
              "}\n",
              "\n",
              "#sk-container-id-1 label.sk-toggleable__label .caption {\n",
              "  font-size: 0.6rem;\n",
              "  font-weight: lighter;\n",
              "  color: var(--sklearn-color-text-muted);\n",
              "}\n",
              "\n",
              "#sk-container-id-1 label.sk-toggleable__label-arrow:before {\n",
              "  /* Arrow on the left of the label */\n",
              "  content: \"▸\";\n",
              "  float: left;\n",
              "  margin-right: 0.25em;\n",
              "  color: var(--sklearn-color-icon);\n",
              "}\n",
              "\n",
              "#sk-container-id-1 label.sk-toggleable__label-arrow:hover:before {\n",
              "  color: var(--sklearn-color-text);\n",
              "}\n",
              "\n",
              "/* Toggleable content - dropdown */\n",
              "\n",
              "#sk-container-id-1 div.sk-toggleable__content {\n",
              "  max-height: 0;\n",
              "  max-width: 0;\n",
              "  overflow: hidden;\n",
              "  text-align: left;\n",
              "  /* unfitted */\n",
              "  background-color: var(--sklearn-color-unfitted-level-0);\n",
              "}\n",
              "\n",
              "#sk-container-id-1 div.sk-toggleable__content.fitted {\n",
              "  /* fitted */\n",
              "  background-color: var(--sklearn-color-fitted-level-0);\n",
              "}\n",
              "\n",
              "#sk-container-id-1 div.sk-toggleable__content pre {\n",
              "  margin: 0.2em;\n",
              "  border-radius: 0.25em;\n",
              "  color: var(--sklearn-color-text);\n",
              "  /* unfitted */\n",
              "  background-color: var(--sklearn-color-unfitted-level-0);\n",
              "}\n",
              "\n",
              "#sk-container-id-1 div.sk-toggleable__content.fitted pre {\n",
              "  /* unfitted */\n",
              "  background-color: var(--sklearn-color-fitted-level-0);\n",
              "}\n",
              "\n",
              "#sk-container-id-1 input.sk-toggleable__control:checked~div.sk-toggleable__content {\n",
              "  /* Expand drop-down */\n",
              "  max-height: 200px;\n",
              "  max-width: 100%;\n",
              "  overflow: auto;\n",
              "}\n",
              "\n",
              "#sk-container-id-1 input.sk-toggleable__control:checked~label.sk-toggleable__label-arrow:before {\n",
              "  content: \"▾\";\n",
              "}\n",
              "\n",
              "/* Pipeline/ColumnTransformer-specific style */\n",
              "\n",
              "#sk-container-id-1 div.sk-label input.sk-toggleable__control:checked~label.sk-toggleable__label {\n",
              "  color: var(--sklearn-color-text);\n",
              "  background-color: var(--sklearn-color-unfitted-level-2);\n",
              "}\n",
              "\n",
              "#sk-container-id-1 div.sk-label.fitted input.sk-toggleable__control:checked~label.sk-toggleable__label {\n",
              "  background-color: var(--sklearn-color-fitted-level-2);\n",
              "}\n",
              "\n",
              "/* Estimator-specific style */\n",
              "\n",
              "/* Colorize estimator box */\n",
              "#sk-container-id-1 div.sk-estimator input.sk-toggleable__control:checked~label.sk-toggleable__label {\n",
              "  /* unfitted */\n",
              "  background-color: var(--sklearn-color-unfitted-level-2);\n",
              "}\n",
              "\n",
              "#sk-container-id-1 div.sk-estimator.fitted input.sk-toggleable__control:checked~label.sk-toggleable__label {\n",
              "  /* fitted */\n",
              "  background-color: var(--sklearn-color-fitted-level-2);\n",
              "}\n",
              "\n",
              "#sk-container-id-1 div.sk-label label.sk-toggleable__label,\n",
              "#sk-container-id-1 div.sk-label label {\n",
              "  /* The background is the default theme color */\n",
              "  color: var(--sklearn-color-text-on-default-background);\n",
              "}\n",
              "\n",
              "/* On hover, darken the color of the background */\n",
              "#sk-container-id-1 div.sk-label:hover label.sk-toggleable__label {\n",
              "  color: var(--sklearn-color-text);\n",
              "  background-color: var(--sklearn-color-unfitted-level-2);\n",
              "}\n",
              "\n",
              "/* Label box, darken color on hover, fitted */\n",
              "#sk-container-id-1 div.sk-label.fitted:hover label.sk-toggleable__label.fitted {\n",
              "  color: var(--sklearn-color-text);\n",
              "  background-color: var(--sklearn-color-fitted-level-2);\n",
              "}\n",
              "\n",
              "/* Estimator label */\n",
              "\n",
              "#sk-container-id-1 div.sk-label label {\n",
              "  font-family: monospace;\n",
              "  font-weight: bold;\n",
              "  display: inline-block;\n",
              "  line-height: 1.2em;\n",
              "}\n",
              "\n",
              "#sk-container-id-1 div.sk-label-container {\n",
              "  text-align: center;\n",
              "}\n",
              "\n",
              "/* Estimator-specific */\n",
              "#sk-container-id-1 div.sk-estimator {\n",
              "  font-family: monospace;\n",
              "  border: 1px dotted var(--sklearn-color-border-box);\n",
              "  border-radius: 0.25em;\n",
              "  box-sizing: border-box;\n",
              "  margin-bottom: 0.5em;\n",
              "  /* unfitted */\n",
              "  background-color: var(--sklearn-color-unfitted-level-0);\n",
              "}\n",
              "\n",
              "#sk-container-id-1 div.sk-estimator.fitted {\n",
              "  /* fitted */\n",
              "  background-color: var(--sklearn-color-fitted-level-0);\n",
              "}\n",
              "\n",
              "/* on hover */\n",
              "#sk-container-id-1 div.sk-estimator:hover {\n",
              "  /* unfitted */\n",
              "  background-color: var(--sklearn-color-unfitted-level-2);\n",
              "}\n",
              "\n",
              "#sk-container-id-1 div.sk-estimator.fitted:hover {\n",
              "  /* fitted */\n",
              "  background-color: var(--sklearn-color-fitted-level-2);\n",
              "}\n",
              "\n",
              "/* Specification for estimator info (e.g. \"i\" and \"?\") */\n",
              "\n",
              "/* Common style for \"i\" and \"?\" */\n",
              "\n",
              ".sk-estimator-doc-link,\n",
              "a:link.sk-estimator-doc-link,\n",
              "a:visited.sk-estimator-doc-link {\n",
              "  float: right;\n",
              "  font-size: smaller;\n",
              "  line-height: 1em;\n",
              "  font-family: monospace;\n",
              "  background-color: var(--sklearn-color-background);\n",
              "  border-radius: 1em;\n",
              "  height: 1em;\n",
              "  width: 1em;\n",
              "  text-decoration: none !important;\n",
              "  margin-left: 0.5em;\n",
              "  text-align: center;\n",
              "  /* unfitted */\n",
              "  border: var(--sklearn-color-unfitted-level-1) 1pt solid;\n",
              "  color: var(--sklearn-color-unfitted-level-1);\n",
              "}\n",
              "\n",
              ".sk-estimator-doc-link.fitted,\n",
              "a:link.sk-estimator-doc-link.fitted,\n",
              "a:visited.sk-estimator-doc-link.fitted {\n",
              "  /* fitted */\n",
              "  border: var(--sklearn-color-fitted-level-1) 1pt solid;\n",
              "  color: var(--sklearn-color-fitted-level-1);\n",
              "}\n",
              "\n",
              "/* On hover */\n",
              "div.sk-estimator:hover .sk-estimator-doc-link:hover,\n",
              ".sk-estimator-doc-link:hover,\n",
              "div.sk-label-container:hover .sk-estimator-doc-link:hover,\n",
              ".sk-estimator-doc-link:hover {\n",
              "  /* unfitted */\n",
              "  background-color: var(--sklearn-color-unfitted-level-3);\n",
              "  color: var(--sklearn-color-background);\n",
              "  text-decoration: none;\n",
              "}\n",
              "\n",
              "div.sk-estimator.fitted:hover .sk-estimator-doc-link.fitted:hover,\n",
              ".sk-estimator-doc-link.fitted:hover,\n",
              "div.sk-label-container:hover .sk-estimator-doc-link.fitted:hover,\n",
              ".sk-estimator-doc-link.fitted:hover {\n",
              "  /* fitted */\n",
              "  background-color: var(--sklearn-color-fitted-level-3);\n",
              "  color: var(--sklearn-color-background);\n",
              "  text-decoration: none;\n",
              "}\n",
              "\n",
              "/* Span, style for the box shown on hovering the info icon */\n",
              ".sk-estimator-doc-link span {\n",
              "  display: none;\n",
              "  z-index: 9999;\n",
              "  position: relative;\n",
              "  font-weight: normal;\n",
              "  right: .2ex;\n",
              "  padding: .5ex;\n",
              "  margin: .5ex;\n",
              "  width: min-content;\n",
              "  min-width: 20ex;\n",
              "  max-width: 50ex;\n",
              "  color: var(--sklearn-color-text);\n",
              "  box-shadow: 2pt 2pt 4pt #999;\n",
              "  /* unfitted */\n",
              "  background: var(--sklearn-color-unfitted-level-0);\n",
              "  border: .5pt solid var(--sklearn-color-unfitted-level-3);\n",
              "}\n",
              "\n",
              ".sk-estimator-doc-link.fitted span {\n",
              "  /* fitted */\n",
              "  background: var(--sklearn-color-fitted-level-0);\n",
              "  border: var(--sklearn-color-fitted-level-3);\n",
              "}\n",
              "\n",
              ".sk-estimator-doc-link:hover span {\n",
              "  display: block;\n",
              "}\n",
              "\n",
              "/* \"?\"-specific style due to the `<a>` HTML tag */\n",
              "\n",
              "#sk-container-id-1 a.estimator_doc_link {\n",
              "  float: right;\n",
              "  font-size: 1rem;\n",
              "  line-height: 1em;\n",
              "  font-family: monospace;\n",
              "  background-color: var(--sklearn-color-background);\n",
              "  border-radius: 1rem;\n",
              "  height: 1rem;\n",
              "  width: 1rem;\n",
              "  text-decoration: none;\n",
              "  /* unfitted */\n",
              "  color: var(--sklearn-color-unfitted-level-1);\n",
              "  border: var(--sklearn-color-unfitted-level-1) 1pt solid;\n",
              "}\n",
              "\n",
              "#sk-container-id-1 a.estimator_doc_link.fitted {\n",
              "  /* fitted */\n",
              "  border: var(--sklearn-color-fitted-level-1) 1pt solid;\n",
              "  color: var(--sklearn-color-fitted-level-1);\n",
              "}\n",
              "\n",
              "/* On hover */\n",
              "#sk-container-id-1 a.estimator_doc_link:hover {\n",
              "  /* unfitted */\n",
              "  background-color: var(--sklearn-color-unfitted-level-3);\n",
              "  color: var(--sklearn-color-background);\n",
              "  text-decoration: none;\n",
              "}\n",
              "\n",
              "#sk-container-id-1 a.estimator_doc_link.fitted:hover {\n",
              "  /* fitted */\n",
              "  background-color: var(--sklearn-color-fitted-level-3);\n",
              "}\n",
              "</style><div id=\"sk-container-id-1\" class=\"sk-top-container\"><div class=\"sk-text-repr-fallback\"><pre>DecisionTreeClassifier(class_weight=&#x27;balanced&#x27;, random_state=42)</pre><b>In a Jupyter environment, please rerun this cell to show the HTML representation or trust the notebook. <br />On GitHub, the HTML representation is unable to render, please try loading this page with nbviewer.org.</b></div><div class=\"sk-container\" hidden><div class=\"sk-item\"><div class=\"sk-estimator fitted sk-toggleable\"><input class=\"sk-toggleable__control sk-hidden--visually\" id=\"sk-estimator-id-1\" type=\"checkbox\" checked><label for=\"sk-estimator-id-1\" class=\"sk-toggleable__label fitted sk-toggleable__label-arrow\"><div><div>DecisionTreeClassifier</div></div><div><a class=\"sk-estimator-doc-link fitted\" rel=\"noreferrer\" target=\"_blank\" href=\"https://scikit-learn.org/1.6/modules/generated/sklearn.tree.DecisionTreeClassifier.html\">?<span>Documentation for DecisionTreeClassifier</span></a><span class=\"sk-estimator-doc-link fitted\">i<span>Fitted</span></span></div></label><div class=\"sk-toggleable__content fitted\"><pre>DecisionTreeClassifier(class_weight=&#x27;balanced&#x27;, random_state=42)</pre></div> </div></div></div></div>"
            ]
          },
          "metadata": {},
          "execution_count": 19
        }
      ]
    },
    {
      "cell_type": "code",
      "source": [
        "from sklearn.model_selection import cross_val_score\n",
        "\n",
        "# Perform 5-fold cross-validation\n",
        "cv_scores = cross_val_score(dt_model, X, y, cv=5, scoring='accuracy')\n",
        "print(\"Cross-Validation Accuracy:\", cv_scores.mean())\n"
      ],
      "metadata": {
        "colab": {
          "base_uri": "https://localhost:8080/"
        },
        "id": "oQopoodxoP0r",
        "outputId": "980ad5c7-879c-4120-bc3f-8b8443ad8cbe"
      },
      "execution_count": null,
      "outputs": [
        {
          "output_type": "stream",
          "name": "stdout",
          "text": [
            "Cross-Validation Accuracy: 0.7870748299319728\n"
          ]
        }
      ]
    },
    {
      "cell_type": "markdown",
      "source": [
        "## ***K-Nearest Neighbors (KNN)***"
      ],
      "metadata": {
        "id": "1E_H1HTbHoX4"
      }
    },
    {
      "cell_type": "code",
      "source": [
        "knn_model = KNeighborsClassifier(n_neighbors=5)\n",
        "knn_model.fit(X_train, y_train)\n",
        "knn_train_metrics, knn_test_metrics = evaluate_model(knn_model, X_train, y_train, X_test, y_test)\n",
        "\n",
        "print(\"KNN - Training Metrics:\", knn_train_metrics)\n",
        "print(\"KNN - Testing Metrics:\", knn_test_metrics)\n"
      ],
      "metadata": {
        "colab": {
          "base_uri": "https://localhost:8080/"
        },
        "id": "fVmNbbZGHp9h",
        "outputId": "00a69376-acc6-43f9-d24a-7394a3104486"
      },
      "execution_count": null,
      "outputs": [
        {
          "output_type": "stream",
          "name": "stdout",
          "text": [
            "KNN - Training Metrics: {'Accuracy': 0.8724489795918368, 'Precision': 0.8870967741935484, 'Recall': 0.2777777777777778, 'F1-Score': 0.4230769230769231, 'ROC-AUC': 0.9152491169362336}\n",
            "KNN - Testing Metrics: {'Accuracy': 0.8741496598639455, 'Precision': 0.625, 'Recall': 0.1282051282051282, 'F1-Score': 0.2127659574468085, 'ROC-AUC': 0.688235294117647}\n"
          ]
        }
      ]
    },
    {
      "cell_type": "markdown",
      "source": [
        "## ***Logistic Regression***"
      ],
      "metadata": {
        "id": "NwwSXYWyHwMf"
      }
    },
    {
      "cell_type": "code",
      "source": [
        "lr_model = LogisticRegression(random_state=42, max_iter=300)\n",
        "lr_model.fit(X_train, y_train)\n",
        "lr_train_metrics, lr_test_metrics = evaluate_model(lr_model, X_train, y_train, X_test, y_test)\n",
        "\n",
        "print(\"Logistic Regression - Training Metrics:\", lr_train_metrics)\n",
        "print(\"Logistic Regression - Testing Metrics:\", lr_test_metrics)\n"
      ],
      "metadata": {
        "colab": {
          "base_uri": "https://localhost:8080/"
        },
        "id": "5ctLPyzVHx9g",
        "outputId": "908ef28f-11fe-4073-b59f-07d09f7338b3"
      },
      "execution_count": null,
      "outputs": [
        {
          "output_type": "stream",
          "name": "stdout",
          "text": [
            "Logistic Regression - Training Metrics: {'Accuracy': 0.8707482993197279, 'Precision': 0.7090909090909091, 'Recall': 0.3939393939393939, 'F1-Score': 0.5064935064935064, 'ROC-AUC': 0.8546766230815311}\n",
            "Logistic Regression - Testing Metrics: {'Accuracy': 0.891156462585034, 'Precision': 0.6842105263157895, 'Recall': 0.3333333333333333, 'F1-Score': 0.4482758620689655, 'ROC-AUC': 0.7721468074409251}\n"
          ]
        }
      ]
    },
    {
      "cell_type": "markdown",
      "source": [
        "## ***Support Vector Machine (SVM)***"
      ],
      "metadata": {
        "id": "tGrxdvJ5H2Vw"
      }
    },
    {
      "cell_type": "code",
      "source": [
        "svm_model = SVC(probability=True, random_state=42)\n",
        "svm_model.fit(X_train, y_train)\n",
        "svm_train_metrics, svm_test_metrics = evaluate_model(svm_model, X_train, y_train, X_test, y_test)\n",
        "\n",
        "print(\"SVM - Training Metrics:\", svm_train_metrics)\n",
        "print(\"SVM - Testing Metrics:\", svm_test_metrics)\n"
      ],
      "metadata": {
        "colab": {
          "base_uri": "https://localhost:8080/"
        },
        "id": "Q8AeVJLVH3ww",
        "outputId": "186b4c62-f64d-4feb-e4fa-7bf19a78cd8c"
      },
      "execution_count": null,
      "outputs": [
        {
          "output_type": "stream",
          "name": "stdout",
          "text": [
            "SVM - Training Metrics: {'Accuracy': 0.9200680272108843, 'Precision': 0.9814814814814815, 'Recall': 0.5353535353535354, 'F1-Score': 0.6928104575163399, 'ROC-AUC': 0.963851190845056}\n",
            "SVM - Testing Metrics: {'Accuracy': 0.8843537414965986, 'Precision': 1.0, 'Recall': 0.1282051282051282, 'F1-Score': 0.22727272727272727, 'ROC-AUC': 0.7988939165409754}\n"
          ]
        }
      ]
    },
    {
      "cell_type": "markdown",
      "source": [
        "## ***Random Forest***"
      ],
      "metadata": {
        "id": "ott1jR6qH9jo"
      }
    },
    {
      "cell_type": "code",
      "source": [
        "rf_model = RandomForestClassifier(random_state=42)\n",
        "rf_model.fit(X_train, y_train)\n",
        "rf_train_metrics, rf_test_metrics = evaluate_model(rf_model, X_train, y_train, X_test, y_test)\n",
        "\n",
        "print(\"Random Forest - Training Metrics:\", rf_train_metrics)\n",
        "print(\"Random Forest - Testing Metrics:\", rf_test_metrics)\n"
      ],
      "metadata": {
        "colab": {
          "base_uri": "https://localhost:8080/"
        },
        "id": "jjPIlOIZIC6L",
        "outputId": "45df7e6a-1aab-40b0-fe64-ae801d3f0390"
      },
      "execution_count": null,
      "outputs": [
        {
          "output_type": "stream",
          "name": "stdout",
          "text": [
            "Random Forest - Training Metrics: {'Accuracy': 1.0, 'Precision': 1.0, 'Recall': 1.0, 'F1-Score': 1.0, 'ROC-AUC': 1.0}\n",
            "Random Forest - Testing Metrics: {'Accuracy': 0.8639455782312925, 'Precision': 0.4444444444444444, 'Recall': 0.10256410256410256, 'F1-Score': 0.16666666666666666, 'ROC-AUC': 0.7064353946706888}\n"
          ]
        }
      ]
    },
    {
      "cell_type": "markdown",
      "source": [
        "## ***Compare Models***"
      ],
      "metadata": {
        "id": "0z4afeEZIGsI"
      }
    },
    {
      "cell_type": "code",
      "source": [
        "import pandas as pd\n",
        "from sklearn.tree import DecisionTreeClassifier\n",
        "from sklearn.ensemble import RandomForestClassifier\n",
        "\n",
        "# Decision Tree with regularization to achieve around 90% training accuracy\n",
        "dt_model = DecisionTreeClassifier(random_state=42, max_depth=5, min_samples_split=10, min_samples_leaf=5)\n",
        "dt_model.fit(X_train, y_train)\n",
        "dt_metrics = evaluate_model(dt_model, X_train, y_train, X_test, y_test)\n",
        "\n",
        "# Random Forest with regularization to reduce overfitting\n",
        "rf_model = RandomForestClassifier(random_state=42, n_estimators=100, max_depth=10, min_samples_split=10, min_samples_leaf=5)\n",
        "rf_model.fit(X_train, y_train)\n",
        "rf_metrics = evaluate_model(rf_model, X_train, y_train, X_test, y_test)\n",
        "\n",
        "# Create a comparison DataFrame\n",
        "comparison_data = {\n",
        "    \"Model\": [\"Decision Tree\", \"KNN\", \"Logistic Regression\", \"SVM\", \"Random Forest\"],\n",
        "    \"Training Accuracy\": [\n",
        "        dt_metrics[\"Accuracy\"][0],\n",
        "        knn_train_metrics[\"Accuracy\"],\n",
        "        lr_train_metrics[\"Accuracy\"],\n",
        "        svm_train_metrics[\"Accuracy\"],\n",
        "        rf_metrics[\"Accuracy\"][0]\n",
        "    ],\n",
        "    \"Testing Accuracy\": [\n",
        "        dt_metrics[\"Accuracy\"][1],\n",
        "        knn_test_metrics[\"Accuracy\"],\n",
        "        lr_test_metrics[\"Accuracy\"],\n",
        "        svm_test_metrics[\"Accuracy\"],\n",
        "        rf_metrics[\"Accuracy\"][1]\n",
        "    ],\n",
        "    \"Training Precision\": [\n",
        "        dt_metrics[\"Precision\"][0],\n",
        "        knn_train_metrics[\"Precision\"],\n",
        "        lr_train_metrics[\"Precision\"],\n",
        "        svm_train_metrics[\"Precision\"],\n",
        "        rf_metrics[\"Precision\"][0]\n",
        "    ],\n",
        "    \"Testing Precision\": [\n",
        "        dt_metrics[\"Precision\"][1],\n",
        "        knn_test_metrics[\"Precision\"],\n",
        "        lr_test_metrics[\"Precision\"],\n",
        "        svm_test_metrics[\"Precision\"],\n",
        "        rf_metrics[\"Precision\"][1]\n",
        "    ],\n",
        "    \"Training Recall\": [\n",
        "        dt_metrics[\"Recall\"][0],\n",
        "        knn_train_metrics[\"Recall\"],\n",
        "        lr_train_metrics[\"Recall\"],\n",
        "        svm_train_metrics[\"Recall\"],\n",
        "        rf_metrics[\"Recall\"][0]\n",
        "    ],\n",
        "    \"Testing Recall\": [\n",
        "        dt_metrics[\"Recall\"][1],\n",
        "        knn_test_metrics[\"Recall\"],\n",
        "        lr_test_metrics[\"Recall\"],\n",
        "        svm_test_metrics[\"Recall\"],\n",
        "        rf_metrics[\"Recall\"][1]\n",
        "    ],\n",
        "    \"Training F1-Score\": [\n",
        "        dt_metrics[\"F1-Score\"][0],\n",
        "        knn_train_metrics[\"F1-Score\"],\n",
        "        lr_train_metrics[\"F1-Score\"],\n",
        "        svm_train_metrics[\"F1-Score\"],\n",
        "        rf_metrics[\"F1-Score\"][0]\n",
        "    ],\n",
        "    \"Testing F1-Score\": [\n",
        "        dt_metrics[\"F1-Score\"][1],\n",
        "        knn_test_metrics[\"F1-Score\"],\n",
        "        lr_test_metrics[\"F1-Score\"],\n",
        "        svm_test_metrics[\"F1-Score\"],\n",
        "        rf_metrics[\"F1-Score\"][1]\n",
        "    ],\n",
        "    \"Training ROC-AUC\": [\n",
        "        dt_metrics[\"ROC-AUC\"][0],\n",
        "        knn_train_metrics[\"ROC-AUC\"],\n",
        "        lr_train_metrics[\"ROC-AUC\"],\n",
        "        svm_train_metrics[\"ROC-AUC\"],\n",
        "        rf_metrics[\"ROC-AUC\"][0]\n",
        "    ],\n",
        "    \"Testing ROC-AUC\": [\n",
        "        dt_metrics[\"ROC-AUC\"][1],\n",
        "        knn_test_metrics[\"ROC-AUC\"],\n",
        "        lr_test_metrics[\"ROC-AUC\"],\n",
        "        svm_test_metrics[\"ROC-AUC\"],\n",
        "        rf_metrics[\"ROC-AUC\"][1]\n",
        "    ]\n",
        "}\n",
        "\n",
        "# Display the comparison table\n",
        "comparison_df = pd.DataFrame(comparison_data)\n",
        "print(\"\\nComparison of Models with Precision, Recall, F1-Score, and ROC-AUC:\")\n",
        "print(comparison_df)\n"
      ],
      "metadata": {
        "colab": {
          "base_uri": "https://localhost:8080/"
        },
        "id": "usiReW8nuvl_",
        "outputId": "de43d336-e4a0-426a-ffd4-723ef94b0e83"
      },
      "execution_count": null,
      "outputs": [
        {
          "output_type": "stream",
          "name": "stdout",
          "text": [
            "\n",
            "Comparison of Models with Precision, Recall, F1-Score, and ROC-AUC:\n",
            "                 Model  Training Accuracy  Testing Accuracy  \\\n",
            "0        Decision Tree           0.884354          0.823129   \n",
            "1                  KNN           0.872449          0.874150   \n",
            "2  Logistic Regression           0.870748          0.891156   \n",
            "3                  SVM           0.920068          0.884354   \n",
            "4        Random Forest           0.899660          0.874150   \n",
            "\n",
            "   Training Precision  Testing Precision  Training Recall  Testing Recall  \\\n",
            "0            0.742188           0.217391         0.479798        0.128205   \n",
            "1            0.887097           0.625000         0.277778        0.128205   \n",
            "2            0.709091           0.684211         0.393939        0.333333   \n",
            "3            0.981481           1.000000         0.535354        0.128205   \n",
            "4            0.987805           0.666667         0.409091        0.102564   \n",
            "\n",
            "   Training F1-Score  Testing F1-Score  Training ROC-AUC  Testing ROC-AUC  \n",
            "0           0.582822          0.161290          0.864708         0.596581  \n",
            "1           0.423077          0.212766          0.915249         0.688235  \n",
            "2           0.506494          0.448276          0.854677         0.772147  \n",
            "3           0.692810          0.227273          0.963851         0.798894  \n",
            "4           0.578571          0.177778          0.986594         0.731926  \n"
          ]
        }
      ]
    },
    {
      "cell_type": "markdown",
      "source": [
        "## ***Comparison Table with All Metrics Accuracy ***"
      ],
      "metadata": {
        "id": "xeq6K56bIljw"
      }
    },
    {
      "cell_type": "code",
      "source": [
        "from sklearn.tree import DecisionTreeClassifier\n",
        "from sklearn.ensemble import RandomForestClassifier\n",
        "import pandas as pd\n",
        "\n",
        "# Decision Tree with regularization to achieve around 90% training accuracy\n",
        "dt_model = DecisionTreeClassifier(random_state=42, max_depth=5, min_samples_split=10, min_samples_leaf=5)\n",
        "dt_model.fit(X_train, y_train)\n",
        "dt_metrics = evaluate_model(dt_model, X_train, y_train, X_test, y_test)\n",
        "\n",
        "# Random Forest with regularization to reduce overfitting\n",
        "rf_model = RandomForestClassifier(random_state=42, n_estimators=100, max_depth=10, min_samples_split=10, min_samples_leaf=5)\n",
        "rf_model.fit(X_train, y_train)\n",
        "rf_metrics = evaluate_model(rf_model, X_train, y_train, X_test, y_test)\n",
        "\n",
        "# Create a comparison DataFrame\n",
        "comparison_data = {\n",
        "    \"Model\": [\"Decision Tree\", \"KNN\", \"Logistic Regression\", \"SVM\", \"Random Forest\"],\n",
        "    \"Training Accuracy\": [\n",
        "        dt_metrics[\"Accuracy\"][0],  # Training Accuracy\n",
        "        knn_train_metrics[\"Accuracy\"],\n",
        "        lr_train_metrics[\"Accuracy\"],\n",
        "        svm_train_metrics[\"Accuracy\"],\n",
        "        rf_metrics[\"Accuracy\"][0]   # Training Accuracy\n",
        "    ],\n",
        "    \"Testing Accuracy\": [\n",
        "        dt_metrics[\"Accuracy\"][1],  # Testing Accuracy\n",
        "        knn_test_metrics[\"Accuracy\"],\n",
        "        lr_test_metrics[\"Accuracy\"],\n",
        "        svm_test_metrics[\"Accuracy\"],\n",
        "        rf_metrics[\"Accuracy\"][1]   # Testing Accuracy\n",
        "    ]\n",
        "}\n",
        "\n",
        "# Display the comparison table\n",
        "comparison_df = pd.DataFrame(comparison_data)\n",
        "print(comparison_df)\n"
      ],
      "metadata": {
        "colab": {
          "base_uri": "https://localhost:8080/"
        },
        "id": "uZYti1Hntaxa",
        "outputId": "76baed6c-029d-401e-b48d-c5972ba1aed5"
      },
      "execution_count": null,
      "outputs": [
        {
          "output_type": "stream",
          "name": "stdout",
          "text": [
            "                 Model  Training Accuracy  Testing Accuracy\n",
            "0        Decision Tree           0.884354          0.823129\n",
            "1                  KNN           0.872449          0.874150\n",
            "2  Logistic Regression           0.870748          0.891156\n",
            "3                  SVM           0.920068          0.884354\n",
            "4        Random Forest           0.899660          0.874150\n"
          ]
        }
      ]
    },
    {
      "cell_type": "markdown",
      "source": [
        "## ***Visualize Comparison***"
      ],
      "metadata": {
        "id": "X0T8dTiZILtI"
      }
    },
    {
      "cell_type": "code",
      "source": [
        "import matplotlib.pyplot as plt\n",
        "import numpy as np\n",
        "\n",
        "# Data for plotting\n",
        "models = [\"Decision Tree\", \"KNN\", \"Logistic Regression\", \"SVM\", \"Random Forest\"]\n",
        "training_accuracy = comparison_df[\"Training Accuracy\"]\n",
        "testing_accuracy = comparison_df[\"Testing Accuracy\"]\n",
        "\n",
        "x = np.arange(len(models))  # the label locations\n",
        "\n",
        "# Plotting the data\n",
        "width = 0.35  # the width of the bars\n",
        "\n",
        "fig, ax = plt.subplots(figsize=(10, 6))\n",
        "bars1 = ax.bar(x - width/2, training_accuracy, width, label='Training Accuracy', color='skyblue')\n",
        "bars2 = ax.bar(x + width/2, testing_accuracy, width, label='Testing Accuracy', color='salmon')\n",
        "\n",
        "# Adding text for labels, title, and axes ticks\n",
        "ax.set_xlabel('Models')\n",
        "ax.set_ylabel('Accuracy')\n",
        "ax.set_title('Model Comparison: Training vs Testing Accuracy')\n",
        "ax.set_xticks(x)\n",
        "ax.set_xticklabels(models, rotation=45, ha='right')\n",
        "ax.legend()\n",
        "\n",
        "# Adding value labels on bars\n",
        "for bar in bars1:\n",
        "    ax.text(bar.get_x() + bar.get_width() / 2, bar.get_height() - 0.05, f'{bar.get_height():.2f}', ha='center', va='bottom')\n",
        "for bar in bars2:\n",
        "    ax.text(bar.get_x() + bar.get_width() / 2, bar.get_height() - 0.05, f'{bar.get_height():.2f}', ha='center', va='bottom')\n",
        "\n",
        "# Display the plot\n",
        "plt.tight_layout()\n",
        "plt.show()\n"
      ],
      "metadata": {
        "colab": {
          "base_uri": "https://localhost:8080/",
          "height": 607
        },
        "id": "xIzI7f0Qt9oE",
        "outputId": "57294a3f-6196-4015-e3b4-453760d324e0"
      },
      "execution_count": null,
      "outputs": [
        {
          "output_type": "display_data",
          "data": {
            "text/plain": [
              "<Figure size 1000x600 with 1 Axes>"
            ],
            "image/png": "[encoded data removed]"
          },
          "metadata": {}
        }
      ]
    }
  ]
}